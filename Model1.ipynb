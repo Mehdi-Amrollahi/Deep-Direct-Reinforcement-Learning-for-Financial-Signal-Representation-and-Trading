{
 "cells": [
  {
   "cell_type": "code",
   "execution_count": 1,
   "metadata": {
    "collapsed": true
   },
   "outputs": [],
   "source": [
    "import tensorflow as tf\n",
    "import pandas as pd\n",
    "import datetime as dt\n",
    "import quandl\n",
    "import matplotlib.pyplot as plt\n",
    "import numpy as np\n",
    "%matplotlib inline\n",
    "quandl.ApiConfig.api_key = 'VMzrqquNfHGPbXAMKWGh'"
   ]
  },
  {
   "cell_type": "code",
   "execution_count": 2,
   "metadata": {
    "collapsed": true
   },
   "outputs": [],
   "source": [
    "TCS_df = pd.read_csv('TCS')\n",
    "p = TCS_df['Close'].as_matrix()\n",
    "l = []"
   ]
  },
  {
   "cell_type": "code",
   "execution_count": 3,
   "metadata": {
    "collapsed": true
   },
   "outputs": [],
   "source": [
    "tf.reset_default_graph()"
   ]
  },
  {
   "cell_type": "code",
   "execution_count": 4,
   "metadata": {
    "collapsed": true
   },
   "outputs": [],
   "source": [
    "n = len(p)\n",
    "ts = 100#time steps\n",
    "m = 10#no of price ticks[inputs]\n",
    "c = 1 #transaction cost\n",
    "batch_size = 1\n",
    "#features shape - (m*1)\n",
    "#W - shape(m*1)\n",
    "#U - shape(1*1)"
   ]
  },
  {
   "cell_type": "code",
   "execution_count": 5,
   "metadata": {
    "collapsed": true
   },
   "outputs": [],
   "source": [
    "z = np.array([p[i+1] - p[i] for i in range(n-1)])\n",
    "z = z.reshape([n-1,1])\n",
    "decisions = np.array([1,0,-1])"
   ]
  },
  {
   "cell_type": "code",
   "execution_count": 6,
   "metadata": {
    "collapsed": true
   },
   "outputs": [],
   "source": [
    "def next_batch(t):\n",
    "    l1 = t\n",
    "    \n",
    "    l2 = t+m+ts\n",
    "    \n",
    "    return z[l1:l2]"
   ]
  },
  {
   "cell_type": "code",
   "execution_count": null,
   "metadata": {
    "collapsed": true
   },
   "outputs": [],
   "source": []
  },
  {
   "cell_type": "code",
   "execution_count": 7,
   "metadata": {
    "collapsed": true
   },
   "outputs": [],
   "source": [
    "def init_weights(shape):\n",
    "    rn = tf.random_normal(shape)\n",
    "    return tf.Variable(rn)\n",
    "    "
   ]
  },
  {
   "cell_type": "code",
   "execution_count": 8,
   "metadata": {
    "collapsed": true
   },
   "outputs": [],
   "source": [
    "def inp_layer(x,W,b):\n",
    "    return tf.matmul(tf.transpose(W),x) + b\n",
    "    "
   ]
  },
  {
   "cell_type": "code",
   "execution_count": 9,
   "metadata": {
    "collapsed": true
   },
   "outputs": [],
   "source": [
    "def out_inp_layer(d,U):\n",
    "    return tf.matmul(tf.transpose(U),d)"
   ]
  },
  {
   "cell_type": "code",
   "execution_count": 10,
   "metadata": {
    "collapsed": true
   },
   "outputs": [],
   "source": [
    "def output(x,y):\n",
    "    return tf.tanh(x+y)"
   ]
  },
  {
   "cell_type": "code",
   "execution_count": 11,
   "metadata": {
    "collapsed": true
   },
   "outputs": [],
   "source": [
    "def forward_prop(ft,dt,W,b,U):\n",
    "    i1 = inp_layer(ft,W,b)\n",
    "    i2 = out_inp_layer(dt,U)\n",
    "    o = output(i1,i2)\n",
    "    return o"
   ]
  },
  {
   "cell_type": "code",
   "execution_count": 12,
   "metadata": {
    "collapsed": true
   },
   "outputs": [],
   "source": [
    "def unfolded(features,W,b,U,dt):\n",
    "    delta = [dt]\n",
    "    r = []\n",
    "    for i in range(1,ts+1):\n",
    "        f = tf.slice(features,[i-1,0],[m,1])\n",
    "        l.append(f)\n",
    "        delta.append(forward_prop(f,delta[i-1],W,b,U))\n",
    "        Rt = delta[i-1]*z[i-1] - c*tf.abs(delta[i] - delta[i-1])\n",
    "        r.append(Rt)\n",
    "    UT = sum(r)\n",
    "    return UT,r,delta"
   ]
  },
  {
   "cell_type": "code",
   "execution_count": 25,
   "metadata": {},
   "outputs": [
    {
     "data": {
      "text/plain": [
       "[<matplotlib.lines.Line2D at 0x1ca78a7f828>]"
      ]
     },
     "execution_count": 25,
     "metadata": {},
     "output_type": "execute_result"
    },
    {
     "data": {
      "image/png": "[encoded data removed]",
      "text/plain": [
       "<matplotlib.figure.Figure at 0x1ca78a7f710>"
      ]
     },
     "metadata": {},
     "output_type": "display_data"
    }
   ],
   "source": [
    "#def dnn_layer(features)\n",
    "plt.plot([i for i in range(m)],z[0:m],'r')\n",
    "plt.plot([i for i in range(m,m+ts)],z[m:m+ts],'g')"
   ]
  },
  {
   "cell_type": "code",
   "execution_count": 14,
   "metadata": {
    "collapsed": true
   },
   "outputs": [],
   "source": [
    "obj = []\n",
    "learning_rate = 0.01"
   ]
  },
  {
   "cell_type": "code",
   "execution_count": 18,
   "metadata": {
    "collapsed": true
   },
   "outputs": [],
   "source": [
    "W = init_weights([m,1])\n",
    "U = init_weights([1,1])\n",
    "b = init_weights([1,1])\n",
    "#dt = tf.placeholder(tf.float32,shape = [1,1])\n",
    "dt = tf.Variable(tf.zeros([1,1]),dtype=tf.float32,trainable=False)\n",
    "features = tf.placeholder(tf.float32,shape = [m+ts,1])\n",
    "UT,r,delta = unfolded(features,W,b,U,dt)\n",
    "optimizer = tf.train.AdamOptimizer(learning_rate=learning_rate)\n",
    "train = optimizer.minimize(-UT)"
   ]
  },
  {
   "cell_type": "code",
   "execution_count": 19,
   "metadata": {},
   "outputs": [
    {
     "name": "stdout",
     "output_type": "stream",
     "text": [
      "[[ 641.15380859]]\n"
     ]
    }
   ],
   "source": [
    "saver = tf.train.Saver()\n",
    "init = tf.global_variables_initializer()\n",
    "steps = 1\n",
    "epochs = 2000\n",
    "with tf.Session() as sess:\n",
    "    sess.run(init)\n",
    "    for j in range(epochs):\n",
    "        ind = 0\n",
    "        for i in range(steps):\n",
    "            #print(ind)\n",
    "            x_curr = next_batch(ind)\n",
    "            #_,val,delt,d = sess.run([train,UT,delta,dt],feed_dict = {features:x_curr.reshape([10,1])})\n",
    "            _,val,delt,w = sess.run([train,UT,delta,W],feed_dict = {features:x_curr.reshape([m+ts,1])})\n",
    "            obj.append(val[0][0])\n",
    "            ind = ind + m+ts\n",
    "    print(val)\n",
    "    saver.save(sess, \"./stock\")\n",
    "    \n",
    "    "
   ]
  },
  {
   "cell_type": "code",
   "execution_count": 17,
   "metadata": {},
   "outputs": [
    {
     "data": {
      "text/plain": [
       "100"
      ]
     },
     "execution_count": 17,
     "metadata": {},
     "output_type": "execute_result"
    }
   ],
   "source": [
    "len(z[0:ts])"
   ]
  },
  {
   "cell_type": "code",
   "execution_count": 27,
   "metadata": {},
   "outputs": [
    {
     "data": {
      "text/plain": [
       "[<matplotlib.lines.Line2D at 0x1ca552e8e10>]"
      ]
     },
     "execution_count": 27,
     "metadata": {},
     "output_type": "execute_result"
    },
    {
     "data": {
      "image/png": "[encoded data removed]",
      "text/plain": [
       "<matplotlib.figure.Figure at 0x1ca66f24400>"
      ]
     },
     "metadata": {},
     "output_type": "display_data"
    }
   ],
   "source": [
    "plt.plot(obj,'r')"
   ]
  },
  {
   "cell_type": "code",
   "execution_count": null,
   "metadata": {
    "collapsed": true
   },
   "outputs": [],
   "source": []
  }
 ],
 "metadata": {
  "kernelspec": {
   "display_name": "Python 3",
   "language": "python",
   "name": "python3"
  },
  "language_info": {
   "codemirror_mode": {
    "name": "ipython",
    "version": 3
   },
   "file_extension": ".py",
   "mimetype": "text/x-python",
   "name": "python",
   "nbconvert_exporter": "python",
   "pygments_lexer": "ipython3",
   "version": "3.5.4"
  }
 },
 "nbformat": 4,
 "nbformat_minor": 2
}
